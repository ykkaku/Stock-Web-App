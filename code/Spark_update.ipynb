{
 "cells": [
  {
   "cell_type": "code",
   "execution_count": 1,
   "metadata": {},
   "outputs": [],
   "source": [
    "import datetime\n",
    "\n",
    "import csv\n",
    "\n",
    "import pandas as pd\n",
    "\n",
    "from sqlalchemy import create_engine\n",
    "\n",
    "import yfinance as yf \n",
    "\n",
    "from bs4 import BeautifulSoup\n",
    "\n",
    "import requests\n",
    "\n",
    "from pyspark.sql import SparkSession\n",
    "\n",
    "import pyspark\n",
    "\n",
    "from pyspark.context import SparkContext\n",
    "\n",
    "import pyspark.sql.functions as fc\n",
    "\n",
    "import pymysql\n",
    "\n",
    "from pyspark.sql import Row\n",
    "\n",
    "from pyspark.sql.types import *\n",
    "\n",
    "import json\n",
    "\n",
    "import numpy as np"
   ]
  },
  {
   "cell_type": "code",
   "execution_count": 2,
   "metadata": {},
   "outputs": [],
   "source": [
    "sc = SparkContext.getOrCreate()\n",
    "\n",
    "spark = SparkSession(sc)"
   ]
  },
  {
   "cell_type": "markdown",
   "metadata": {},
   "source": [
    "### Connect to google cloud mysql "
   ]
  },
  {
   "cell_type": "code",
   "execution_count": 6,
   "metadata": {},
   "outputs": [],
   "source": [
    "connection = pymysql.connect(host='127.0.0.1',\n",
    "                             user='root',\n",
    "                             password='PApOEaPbJNOM62p1',\n",
    "                             db='stockdb'\n",
    "                            ,port=1234)\n",
    "cur = connection.cursor()\n",
    "\n"
   ]
  },
  {
   "cell_type": "markdown",
   "metadata": {},
   "source": [
    "#### From table CompanyInformation get distinct industry and store them into list Industry"
   ]
  },
  {
   "cell_type": "code",
   "execution_count": 7,
   "metadata": {},
   "outputs": [],
   "source": [
    "sql1='SELECT Distinct Sector FROM CompanyInformation'\n",
    "cur.execute(sql1)\n",
    "Industry = cur.fetchall()"
   ]
  },
  {
   "cell_type": "code",
   "execution_count": 8,
   "metadata": {},
   "outputs": [
    {
     "data": {
      "text/plain": [
       "(('Health Care',),\n",
       " ('Industrials',),\n",
       " ('Consumer Discretionary',),\n",
       " ('Information Technology',),\n",
       " ('Consumer Staples',),\n",
       " ('Utilities',),\n",
       " ('Financials',),\n",
       " ('Real Estate',),\n",
       " ('Materials',),\n",
       " ('Energy',),\n",
       " ('Communication Services',))"
      ]
     },
     "execution_count": 8,
     "metadata": {},
     "output_type": "execute_result"
    }
   ],
   "source": [
    "Industry"
   ]
  },
  {
   "cell_type": "markdown",
   "metadata": {},
   "source": [
    "## Get real-time price for s&p 500 companies\n",
    "#### Function getprice returns a dictionary with Symbol as Key and price as Value"
   ]
  },
  {
   "cell_type": "code",
   "execution_count": 33,
   "metadata": {},
   "outputs": [],
   "source": [
    "def getprice(name):\n",
    "    #newdict=dict()\n",
    "    newlist=[]\n",
    "    for i in name:\n",
    "        newdict=dict()\n",
    "        url='https://finance.yahoo.com/quote/'\n",
    "        finalurl=url+i+'?p='+i+'&.tsrc=fin-srch'\n",
    "        r=requests.get(finalurl)\n",
    "        soup = BeautifulSoup(r.content,'lxml')\n",
    "        stockprice=soup.find_all('div',{\"My(6px) Pos(r) smartphone_Mt(6px)\"})[0].find('span').text\n",
    "        newdict['name']=i\n",
    "        newdict['price']=stockprice\n",
    "        \n",
    "        newlist.append(newdict)\n",
    "    return newlist"
   ]
  },
  {
   "cell_type": "markdown",
   "metadata": {},
   "source": [
    "### Get symbols of the company store them in list (companyname)"
   ]
  },
  {
   "cell_type": "code",
   "execution_count": 27,
   "metadata": {},
   "outputs": [],
   "source": [
    "def industrycompany(cursor,Industry):\n",
    "    sqlcode=('Select * From CompanyInformation Where Sector=\"'+Industry+'\"')\n",
    "    cursor.execute(sqlcode)\n",
    "    Industry = cursor.fetchall()\n",
    "    compname=[]\n",
    "    for i in Industry:\n",
    "        compname.append(i[0])\n",
    "    #remove [:10] to return all names,  \n",
    "    return compname[:10]"
   ]
  },
  {
   "cell_type": "code",
   "execution_count": 29,
   "metadata": {},
   "outputs": [],
   "source": [
    "compname=industrycompany(cur,'Industrials')"
   ]
  },
  {
   "cell_type": "markdown",
   "metadata": {},
   "source": [
    "#### Run getprice and return the dictionary contains real-time price"
   ]
  },
  {
   "cell_type": "code",
   "execution_count": 34,
   "metadata": {},
   "outputs": [],
   "source": [
    "compdict=getprice(compname)"
   ]
  },
  {
   "cell_type": "code",
   "execution_count": 35,
   "metadata": {},
   "outputs": [
    {
     "data": {
      "text/plain": [
       "[{'name': 'AAL', 'price': '12.74'},\n",
       " {'name': 'ALK', 'price': '47.72'},\n",
       " {'name': 'ALLE', 'price': '114.56'},\n",
       " {'name': 'AME', 'price': '119.24'},\n",
       " {'name': 'AOS', 'price': '56.49'},\n",
       " {'name': 'BA', 'price': '203.30'},\n",
       " {'name': 'CARR', 'price': '39.39'},\n",
       " {'name': 'CAT', 'price': '172.74'},\n",
       " {'name': 'CHRW', 'price': '92.88'},\n",
       " {'name': 'CMI', 'price': '233.46'}]"
      ]
     },
     "execution_count": 35,
     "metadata": {},
     "output_type": "execute_result"
    }
   ],
   "source": [
    "compdict"
   ]
  },
  {
   "cell_type": "markdown",
   "metadata": {},
   "source": [
    "### Spark RDD, and create spark dateframe to store the values in it "
   ]
  },
  {
   "cell_type": "code",
   "execution_count": 36,
   "metadata": {},
   "outputs": [],
   "source": [
    "rdd = sc.parallelize(compdict)\n",
    "schema = StructType([ StructField(\"name\", StringType(), True),StructField(\"price\", StringType(), True)])"
   ]
  },
  {
   "cell_type": "code",
   "execution_count": 37,
   "metadata": {},
   "outputs": [],
   "source": [
    "df3 = spark.createDataFrame(rdd, schema)"
   ]
  },
  {
   "cell_type": "code",
   "execution_count": 39,
   "metadata": {},
   "outputs": [
    {
     "name": "stdout",
     "output_type": "stream",
     "text": [
      "+----+------+\n",
      "|name| price|\n",
      "+----+------+\n",
      "| AAL| 12.74|\n",
      "| ALK| 47.72|\n",
      "|ALLE|114.56|\n",
      "| AME|119.24|\n",
      "| AOS| 56.49|\n",
      "|  BA|203.30|\n",
      "|CARR| 39.39|\n",
      "| CAT|172.74|\n",
      "|CHRW| 92.88|\n",
      "| CMI|233.46|\n",
      "+----+------+\n",
      "\n"
     ]
    }
   ],
   "source": [
    "df3.show()"
   ]
  },
  {
   "cell_type": "markdown",
   "metadata": {},
   "source": [
    "### Spark read "
   ]
  },
  {
   "cell_type": "code",
   "execution_count": 40,
   "metadata": {},
   "outputs": [],
   "source": [
    "stockspark = spark.read.json('stockdata.json')\n",
    "\n",
    "companyspark = spark.read.json('companyinfo.json')"
   ]
  },
  {
   "cell_type": "markdown",
   "metadata": {},
   "source": [
    "### Join two table "
   ]
  },
  {
   "cell_type": "code",
   "execution_count": 41,
   "metadata": {},
   "outputs": [],
   "source": [
    "sectorjoin=stockspark.join(companyspark,stockspark.name==companyspark.Symbol).select(stockspark.date,companyspark.Symbol,stockspark.open,stockspark.close,stockspark.high,stockspark.low,stockspark.volume,stockspark.dividends,companyspark.Sector)"
   ]
  },
  {
   "cell_type": "markdown",
   "metadata": {},
   "source": [
    "### Didn't figure out how to use loop to pass in the industry name, so I am typing each industry in and create the spark df, below is example for energy spark table"
   ]
  },
  {
   "cell_type": "code",
   "execution_count": 42,
   "metadata": {},
   "outputs": [],
   "source": [
    "n1=sectorjoin[(sectorjoin.Sector=='Energy')].groupBy(['Symbol','Sector']).agg(fc.max('close').alias('Period_High'),fc.min('close').alias('Period_Low'))"
   ]
  },
  {
   "cell_type": "code",
   "execution_count": 43,
   "metadata": {},
   "outputs": [],
   "source": [
    "n2=n1.join(sectorjoin,sectorjoin.Symbol==n1.Symbol).filter(sectorjoin.close==n1.Period_High).select(sectorjoin.Sector,n1.Symbol,n1.Period_High,sectorjoin.date.alias('High_Date'),n1.Period_Low)\n",
    "\n",
    "n3=n1.join(sectorjoin,sectorjoin.Symbol==n1.Symbol).filter(sectorjoin.close==n1.Period_Low).select(sectorjoin.Sector,n1.Symbol,n1.Period_High,n1.Period_Low,sectorjoin.date.alias('Low_Date'))\n",
    "\n",
    "energytable=n2.join(n3,n3.Symbol==n2.Symbol).filter(n2.Period_High!= 'NaN').select(n2.Sector,n2.Symbol,n2.Period_High,n2.High_Date,n3.Period_Low,n3.Low_Date)"
   ]
  },
  {
   "cell_type": "code",
   "execution_count": 44,
   "metadata": {},
   "outputs": [
    {
     "name": "stdout",
     "output_type": "stream",
     "text": [
      "+------+------+-----------+----------+----------+----------+\n",
      "|Sector|Symbol|Period_High| High_Date|Period_Low|  Low_Date|\n",
      "+------+------+-----------+----------+----------+----------+\n",
      "|Energy|   OXY|       45.8|01/15/2020|      8.88|10/28/2020|\n",
      "|Energy|   XOM|      65.66|01/02/2020|     29.54|03/23/2020|\n",
      "|Energy|   OKE|      70.39|02/20/2020|     13.96|03/18/2020|\n",
      "|Energy|   NOV|      25.36|01/06/2020|      8.01|10/28/2020|\n",
      "|Energy|   EOG|      86.63|01/07/2020|     28.97|03/18/2020|\n",
      "+------+------+-----------+----------+----------+----------+\n",
      "only showing top 5 rows\n",
      "\n"
     ]
    }
   ],
   "source": [
    "energytable.show(5)"
   ]
  },
  {
   "cell_type": "markdown",
   "metadata": {},
   "source": [
    "### First method: try to upload spark into mysql by converting it into pandas first "
   ]
  },
  {
   "cell_type": "code",
   "execution_count": 45,
   "metadata": {},
   "outputs": [],
   "source": [
    "energydf = energytable.select(\"*\").toPandas()"
   ]
  },
  {
   "cell_type": "code",
   "execution_count": 54,
   "metadata": {},
   "outputs": [
    {
     "data": {
      "text/html": [
       "<div>\n",
       "<style scoped>\n",
       "    .dataframe tbody tr th:only-of-type {\n",
       "        vertical-align: middle;\n",
       "    }\n",
       "\n",
       "    .dataframe tbody tr th {\n",
       "        vertical-align: top;\n",
       "    }\n",
       "\n",
       "    .dataframe thead th {\n",
       "        text-align: right;\n",
       "    }\n",
       "</style>\n",
       "<table border=\"1\" class=\"dataframe\">\n",
       "  <thead>\n",
       "    <tr style=\"text-align: right;\">\n",
       "      <th></th>\n",
       "      <th>Sector</th>\n",
       "      <th>Symbol</th>\n",
       "      <th>Period_High</th>\n",
       "      <th>High_Date</th>\n",
       "      <th>Period_Low</th>\n",
       "      <th>Low_Date</th>\n",
       "    </tr>\n",
       "  </thead>\n",
       "  <tbody>\n",
       "    <tr>\n",
       "      <th>0</th>\n",
       "      <td>Energy</td>\n",
       "      <td>OXY</td>\n",
       "      <td>45.80</td>\n",
       "      <td>01/15/2020</td>\n",
       "      <td>8.88</td>\n",
       "      <td>10/28/2020</td>\n",
       "    </tr>\n",
       "    <tr>\n",
       "      <th>1</th>\n",
       "      <td>Energy</td>\n",
       "      <td>XOM</td>\n",
       "      <td>65.66</td>\n",
       "      <td>01/02/2020</td>\n",
       "      <td>29.54</td>\n",
       "      <td>03/23/2020</td>\n",
       "    </tr>\n",
       "    <tr>\n",
       "      <th>2</th>\n",
       "      <td>Energy</td>\n",
       "      <td>OKE</td>\n",
       "      <td>70.39</td>\n",
       "      <td>02/20/2020</td>\n",
       "      <td>13.96</td>\n",
       "      <td>03/18/2020</td>\n",
       "    </tr>\n",
       "    <tr>\n",
       "      <th>3</th>\n",
       "      <td>Energy</td>\n",
       "      <td>NOV</td>\n",
       "      <td>25.36</td>\n",
       "      <td>01/06/2020</td>\n",
       "      <td>8.01</td>\n",
       "      <td>10/28/2020</td>\n",
       "    </tr>\n",
       "    <tr>\n",
       "      <th>4</th>\n",
       "      <td>Energy</td>\n",
       "      <td>EOG</td>\n",
       "      <td>86.63</td>\n",
       "      <td>01/07/2020</td>\n",
       "      <td>28.97</td>\n",
       "      <td>03/18/2020</td>\n",
       "    </tr>\n",
       "  </tbody>\n",
       "</table>\n",
       "</div>"
      ],
      "text/plain": [
       "   Sector Symbol  Period_High   High_Date  Period_Low    Low_Date\n",
       "0  Energy    OXY        45.80  01/15/2020        8.88  10/28/2020\n",
       "1  Energy    XOM        65.66  01/02/2020       29.54  03/23/2020\n",
       "2  Energy    OKE        70.39  02/20/2020       13.96  03/18/2020\n",
       "3  Energy    NOV        25.36  01/06/2020        8.01  10/28/2020\n",
       "4  Energy    EOG        86.63  01/07/2020       28.97  03/18/2020"
      ]
     },
     "execution_count": 54,
     "metadata": {},
     "output_type": "execute_result"
    }
   ],
   "source": [
    "energydf.head()"
   ]
  },
  {
   "cell_type": "markdown",
   "metadata": {},
   "source": [
    "### Use the code below to put spark into sql but the date data type is not working as expect, it convert date to a float decimal number"
   ]
  },
  {
   "cell_type": "code",
   "execution_count": 48,
   "metadata": {},
   "outputs": [],
   "source": [
    "try:\n",
    "    cur.execute(\"CREATE TABLE Industry_Energy (sector varchar(250),symbol varchar(250),periodhigh varchar(250),datehigh text,periodlow varchar(250),datelow text)\")\n",
    "    for row in energydf.iterrows():\n",
    "        idx = row[0]\n",
    "        sector = row[1][0]\n",
    "        symbol = row[1][1]\n",
    "        high = row[1][2]\n",
    "        dateh=row[1][3]\n",
    "        low=row[1][4]\n",
    "        datel=row[1][5]\n",
    "        cur.execute(f\"INSERT INTO Industry_Energy (sector,symbol,periodhigh,datehigh,periodlow,datelow) VALUES ('{sector}','{symbol}', '{high}',{dateh},{low},{datel});\")\n",
    "\n",
    "except Exception as e:\n",
    "    print(e)"
   ]
  },
  {
   "cell_type": "code",
   "execution_count": 52,
   "metadata": {},
   "outputs": [
    {
     "data": {
      "text/plain": [
       "('Energy',\n",
       " 'OXY',\n",
       " '45.8',\n",
       " '0.000033003300000000',\n",
       " '8.88',\n",
       " '0.000176803394554455')"
      ]
     },
     "execution_count": 52,
     "metadata": {},
     "output_type": "execute_result"
    }
   ],
   "source": [
    "sql_code=('Select * From Industry_Energy')\n",
    "cur.execute(sql_code)\n",
    "test1 = cur.fetchone()\n",
    "test1"
   ]
  },
  {
   "cell_type": "markdown",
   "metadata": {},
   "source": [
    "### Second method \n",
    "### Export them into csv files for now, they are under code/datafiles"
   ]
  },
  {
   "cell_type": "code",
   "execution_count": null,
   "metadata": {},
   "outputs": [],
   "source": [
    "energytable.coalesce(1).write.option(\"header\",\"true\").option(\"sep\",\",\").mode(\"overwrite\").csv(\"energy\")"
   ]
  },
  {
   "cell_type": "markdown",
   "metadata": {},
   "source": [
    "##  ....... "
   ]
  }
 ],
 "metadata": {
  "kernelspec": {
   "display_name": "Python 3",
   "language": "python",
   "name": "python3"
  },
  "language_info": {
   "codemirror_mode": {
    "name": "ipython",
    "version": 3
   },
   "file_extension": ".py",
   "mimetype": "text/x-python",
   "name": "python",
   "nbconvert_exporter": "python",
   "pygments_lexer": "ipython3",
   "version": "3.7.6"
  }
 },
 "nbformat": 4,
 "nbformat_minor": 4
}
