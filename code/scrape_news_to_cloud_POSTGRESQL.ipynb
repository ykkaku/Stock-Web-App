{
 "cells": [
  {
   "cell_type": "markdown",
   "metadata": {},
   "source": [
    "## Connect to Google SQL Database (PostgreSQL)"
   ]
  },
  {
   "cell_type": "code",
   "execution_count": 1,
   "metadata": {},
   "outputs": [],
   "source": [
    "## use conda env 'dsci551-project'\n",
    "\n",
    "## libraries for connecting to PostgreSQL\n",
    "import psycopg2\n",
    "from psycopg2 import OperationalError, errorcodes, errors\n",
    "\n",
    "import pandas as pd \n",
    "import numpy as np \n",
    "import sys\n",
    "import datetime\n",
    "\n",
    "# from GoogleNews import GoogleNews\n",
    "# from newspaper import Article\n",
    "import functools \n",
    "import operator\n",
    "import time"
   ]
  },
  {
   "cell_type": "code",
   "execution_count": 2,
   "metadata": {},
   "outputs": [],
   "source": [
    "conn = psycopg2.connect(\n",
    "    user = \"postgres\",\n",
    "    password = \"BHeBq2NKxkxal4fq\",\n",
    "    host = \"127.0.0.1\",\n",
    "    port = \"5432\",\n",
    "    database = \"news\"\n",
    ")"
   ]
  },
  {
   "cell_type": "code",
   "execution_count": 3,
   "metadata": {},
   "outputs": [],
   "source": [
    "cur = conn.cursor()"
   ]
  },
  {
   "cell_type": "code",
   "execution_count": 4,
   "metadata": {},
   "outputs": [
    {
     "name": "stdout",
     "output_type": "stream",
     "text": [
      "{'user': 'postgres', 'dbname': 'news', 'host': '127.0.0.1', 'port': '5432', 'tty': '', 'options': '', 'sslmode': 'prefer', 'sslcompression': '0', 'krbsrvname': 'postgres', 'target_session_attrs': 'any'} \n",
      "\n"
     ]
    }
   ],
   "source": [
    "## Print connection properties\n",
    "print(conn.get_dsn_parameters(), \"\\n\")"
   ]
  },
  {
   "cell_type": "code",
   "execution_count": 5,
   "metadata": {},
   "outputs": [
    {
     "name": "stdout",
     "output_type": "stream",
     "text": [
      "Connected to  ('PostgreSQL 12.3 on x86_64-pc-linux-gnu, compiled by Debian clang version 10.0.1 , 64-bit',) \n",
      "\n"
     ]
    }
   ],
   "source": [
    "## Print postgres version\n",
    "cur.execute(\"SELECT version();\")\n",
    "record = cur.fetchone()\n",
    "print(\"Connected to \", record, \"\\n\")"
   ]
  },
  {
   "cell_type": "code",
   "execution_count": null,
   "metadata": {},
   "outputs": [],
   "source": []
  },
  {
   "cell_type": "code",
   "execution_count": 6,
   "metadata": {},
   "outputs": [
    {
     "data": {
      "text/html": [
       "<div>\n",
       "<style scoped>\n",
       "    .dataframe tbody tr th:only-of-type {\n",
       "        vertical-align: middle;\n",
       "    }\n",
       "\n",
       "    .dataframe tbody tr th {\n",
       "        vertical-align: top;\n",
       "    }\n",
       "\n",
       "    .dataframe thead th {\n",
       "        text-align: right;\n",
       "    }\n",
       "</style>\n",
       "<table border=\"1\" class=\"dataframe\">\n",
       "  <thead>\n",
       "    <tr style=\"text-align: right;\">\n",
       "      <th></th>\n",
       "      <th>title</th>\n",
       "      <th>media</th>\n",
       "      <th>date</th>\n",
       "      <th>desc</th>\n",
       "      <th>link</th>\n",
       "      <th>img</th>\n",
       "      <th>Symbol</th>\n",
       "    </tr>\n",
       "  </thead>\n",
       "  <tbody>\n",
       "    <tr>\n",
       "      <th>0</th>\n",
       "      <td>Turn Your Side Hustle into a Booming Startup</td>\n",
       "      <td>Street Fight</td>\n",
       "      <td>Jan 29, 2020</td>\n",
       "      <td>My co-founders and I grew the platform to 3M+ ...</td>\n",
       "      <td>https://streetfightmag.com/2020/01/29/turn-you...</td>\n",
       "      <td>data:image/gif;base64,R0lGODlhAQABAIAAAP//////...</td>\n",
       "      <td>MMM</td>\n",
       "    </tr>\n",
       "    <tr>\n",
       "      <th>1</th>\n",
       "      <td>Security Innovation enhances cybersecurity tra...</td>\n",
       "      <td>NaN</td>\n",
       "      <td>Jan 23, 2020</td>\n",
       "      <td>After finishing 2019 with 3M+ licensed users, ...</td>\n",
       "      <td>https://www.globenewswire.com/news-release/202...</td>\n",
       "      <td>data:image/gif;base64,R0lGODlhAQABAIAAAP//////...</td>\n",
       "      <td>MMM</td>\n",
       "    </tr>\n",
       "    <tr>\n",
       "      <th>2</th>\n",
       "      <td>These \"Three Kings\" hold the record of the Fas...</td>\n",
       "      <td>allkpop</td>\n",
       "      <td>Jan 10, 2020</td>\n",
       "      <td>#ShadowComebackTrailer featuring @BTS_twt's SU...</td>\n",
       "      <td>https://www.allkpop.com/article/2020/01/these-...</td>\n",
       "      <td>data:image/gif;base64,R0lGODlhAQABAIAAAP//////...</td>\n",
       "      <td>MMM</td>\n",
       "    </tr>\n",
       "    <tr>\n",
       "      <th>3</th>\n",
       "      <td>Fast-Growing Drizly Joins With Leading Texas R...</td>\n",
       "      <td>PRNewswire</td>\n",
       "      <td>Jan 13, 2020</td>\n",
       "      <td>... delivery to El Paso and Corpus Christi for...</td>\n",
       "      <td>https://www.prnewswire.com/news-releases/fast-...</td>\n",
       "      <td>data:image/gif;base64,R0lGODlhAQABAIAAAP//////...</td>\n",
       "      <td>MMM</td>\n",
       "    </tr>\n",
       "    <tr>\n",
       "      <th>4</th>\n",
       "      <td>Roker Roundup: Reporter suggests that Blackpoo...</td>\n",
       "      <td>Roker Report</td>\n",
       "      <td>Jan 2, 2020</td>\n",
       "      <td>The striker has only scored once in the league...</td>\n",
       "      <td>https://rokerreport.sbnation.com/2020/1/2/2104...</td>\n",
       "      <td>data:image/gif;base64,R0lGODlhAQABAIAAAP//////...</td>\n",
       "      <td>MMM</td>\n",
       "    </tr>\n",
       "  </tbody>\n",
       "</table>\n",
       "</div>"
      ],
      "text/plain": [
       "                                               title         media  \\\n",
       "0       Turn Your Side Hustle into a Booming Startup  Street Fight   \n",
       "1  Security Innovation enhances cybersecurity tra...           NaN   \n",
       "2  These \"Three Kings\" hold the record of the Fas...       allkpop   \n",
       "3  Fast-Growing Drizly Joins With Leading Texas R...    PRNewswire   \n",
       "4  Roker Roundup: Reporter suggests that Blackpoo...  Roker Report   \n",
       "\n",
       "           date                                               desc  \\\n",
       "0  Jan 29, 2020  My co-founders and I grew the platform to 3M+ ...   \n",
       "1  Jan 23, 2020  After finishing 2019 with 3M+ licensed users, ...   \n",
       "2  Jan 10, 2020  #ShadowComebackTrailer featuring @BTS_twt's SU...   \n",
       "3  Jan 13, 2020  ... delivery to El Paso and Corpus Christi for...   \n",
       "4   Jan 2, 2020  The striker has only scored once in the league...   \n",
       "\n",
       "                                                link  \\\n",
       "0  https://streetfightmag.com/2020/01/29/turn-you...   \n",
       "1  https://www.globenewswire.com/news-release/202...   \n",
       "2  https://www.allkpop.com/article/2020/01/these-...   \n",
       "3  https://www.prnewswire.com/news-releases/fast-...   \n",
       "4  https://rokerreport.sbnation.com/2020/1/2/2104...   \n",
       "\n",
       "                                                 img Symbol  \n",
       "0  data:image/gif;base64,R0lGODlhAQABAIAAAP//////...    MMM  \n",
       "1  data:image/gif;base64,R0lGODlhAQABAIAAAP//////...    MMM  \n",
       "2  data:image/gif;base64,R0lGODlhAQABAIAAAP//////...    MMM  \n",
       "3  data:image/gif;base64,R0lGODlhAQABAIAAAP//////...    MMM  \n",
       "4  data:image/gif;base64,R0lGODlhAQABAIAAAP//////...    MMM  "
      ]
     },
     "execution_count": 6,
     "metadata": {},
     "output_type": "execute_result"
    }
   ],
   "source": [
    "## Import a df and insert it into the db\n",
    "df = pd.read_csv('data/df_merged.csv')\n",
    "df.head()"
   ]
  },
  {
   "cell_type": "markdown",
   "metadata": {},
   "source": [
    "## Fixing problems with date format\n",
    "(messed up date columns) and getting it to right daettime format for postgres"
   ]
  },
  {
   "cell_type": "code",
   "execution_count": 7,
   "metadata": {},
   "outputs": [],
   "source": [
    "## fix weird formatted date strings\n",
    "df['date'] = df['date'].str.replace(u'.*\\xa0·\\xa0', '')"
   ]
  },
  {
   "cell_type": "code",
   "execution_count": 8,
   "metadata": {},
   "outputs": [],
   "source": [
    "## convert date col to datetime format\n",
    "df['dt'] = pd.to_datetime(df['date'],format='%b %d, %Y',errors='coerce').dt.strftime('%Y-%m-%d')"
   ]
  },
  {
   "cell_type": "code",
   "execution_count": 9,
   "metadata": {},
   "outputs": [],
   "source": [
    "## replace NaN values with today's date\n",
    "df['dt'] = df['dt'].replace(np.nan, str([datetime.date.today()][0]))"
   ]
  },
  {
   "cell_type": "code",
   "execution_count": 10,
   "metadata": {},
   "outputs": [],
   "source": [
    "## check if any NaNs left\n",
    "# test = df[df['dt'].isnull()]\n",
    "# test"
   ]
  },
  {
   "cell_type": "code",
   "execution_count": 11,
   "metadata": {},
   "outputs": [],
   "source": [
    "# df.head(100)"
   ]
  },
  {
   "cell_type": "code",
   "execution_count": 12,
   "metadata": {},
   "outputs": [],
   "source": [
    "## fix single quotes before isnerting into postgres\n",
    "df['title'] = df['title'].str.replace(\"'\", \"''\")\n",
    "df['media'] = df['media'].str.replace(\"'\",\"''\")\n",
    "df['desc'] = df['desc'].str.replace(\"'\",\"''\")"
   ]
  },
  {
   "cell_type": "code",
   "execution_count": 13,
   "metadata": {},
   "outputs": [
    {
     "data": {
      "text/html": [
       "<div>\n",
       "<style scoped>\n",
       "    .dataframe tbody tr th:only-of-type {\n",
       "        vertical-align: middle;\n",
       "    }\n",
       "\n",
       "    .dataframe tbody tr th {\n",
       "        vertical-align: top;\n",
       "    }\n",
       "\n",
       "    .dataframe thead th {\n",
       "        text-align: right;\n",
       "    }\n",
       "</style>\n",
       "<table border=\"1\" class=\"dataframe\">\n",
       "  <thead>\n",
       "    <tr style=\"text-align: right;\">\n",
       "      <th></th>\n",
       "      <th>title</th>\n",
       "      <th>media</th>\n",
       "      <th>date</th>\n",
       "      <th>desc</th>\n",
       "      <th>link</th>\n",
       "      <th>img</th>\n",
       "      <th>Symbol</th>\n",
       "      <th>dt</th>\n",
       "    </tr>\n",
       "  </thead>\n",
       "  <tbody>\n",
       "    <tr>\n",
       "      <th>0</th>\n",
       "      <td>Turn Your Side Hustle into a Booming Startup</td>\n",
       "      <td>Street Fight</td>\n",
       "      <td>Jan 29, 2020</td>\n",
       "      <td>My co-founders and I grew the platform to 3M+ ...</td>\n",
       "      <td>https://streetfightmag.com/2020/01/29/turn-you...</td>\n",
       "      <td>data:image/gif;base64,R0lGODlhAQABAIAAAP//////...</td>\n",
       "      <td>MMM</td>\n",
       "      <td>2020-01-29</td>\n",
       "    </tr>\n",
       "    <tr>\n",
       "      <th>1</th>\n",
       "      <td>Security Innovation enhances cybersecurity tra...</td>\n",
       "      <td>NaN</td>\n",
       "      <td>Jan 23, 2020</td>\n",
       "      <td>After finishing 2019 with 3M+ licensed users, ...</td>\n",
       "      <td>https://www.globenewswire.com/news-release/202...</td>\n",
       "      <td>data:image/gif;base64,R0lGODlhAQABAIAAAP//////...</td>\n",
       "      <td>MMM</td>\n",
       "      <td>2020-01-23</td>\n",
       "    </tr>\n",
       "    <tr>\n",
       "      <th>2</th>\n",
       "      <td>These \"Three Kings\" hold the record of the Fas...</td>\n",
       "      <td>allkpop</td>\n",
       "      <td>Jan 10, 2020</td>\n",
       "      <td>#ShadowComebackTrailer featuring @BTS_twt''s S...</td>\n",
       "      <td>https://www.allkpop.com/article/2020/01/these-...</td>\n",
       "      <td>data:image/gif;base64,R0lGODlhAQABAIAAAP//////...</td>\n",
       "      <td>MMM</td>\n",
       "      <td>2020-01-10</td>\n",
       "    </tr>\n",
       "    <tr>\n",
       "      <th>3</th>\n",
       "      <td>Fast-Growing Drizly Joins With Leading Texas R...</td>\n",
       "      <td>PRNewswire</td>\n",
       "      <td>Jan 13, 2020</td>\n",
       "      <td>... delivery to El Paso and Corpus Christi for...</td>\n",
       "      <td>https://www.prnewswire.com/news-releases/fast-...</td>\n",
       "      <td>data:image/gif;base64,R0lGODlhAQABAIAAAP//////...</td>\n",
       "      <td>MMM</td>\n",
       "      <td>2020-01-13</td>\n",
       "    </tr>\n",
       "    <tr>\n",
       "      <th>4</th>\n",
       "      <td>Roker Roundup: Reporter suggests that Blackpoo...</td>\n",
       "      <td>Roker Report</td>\n",
       "      <td>Jan 2, 2020</td>\n",
       "      <td>The striker has only scored once in the league...</td>\n",
       "      <td>https://rokerreport.sbnation.com/2020/1/2/2104...</td>\n",
       "      <td>data:image/gif;base64,R0lGODlhAQABAIAAAP//////...</td>\n",
       "      <td>MMM</td>\n",
       "      <td>2020-01-02</td>\n",
       "    </tr>\n",
       "    <tr>\n",
       "      <th>5</th>\n",
       "      <td>Spectacular Houses On The Market In London Jan...</td>\n",
       "      <td>Luxury London</td>\n",
       "      <td>Jan 15, 2020</td>\n",
       "      <td>... to mention the striking vaulted chamber th...</td>\n",
       "      <td>https://luxurylondon.co.uk/house/property/lond...</td>\n",
       "      <td>data:image/gif;base64,R0lGODlhAQABAIAAAP//////...</td>\n",
       "      <td>MMM</td>\n",
       "      <td>2020-01-15</td>\n",
       "    </tr>\n",
       "    <tr>\n",
       "      <th>6</th>\n",
       "      <td>Top 10 Automotive Developments to Watch</td>\n",
       "      <td>Ward''s Auto</td>\n",
       "      <td>Jan 6, 2020</td>\n",
       "      <td>Ride sharing is for real, and those dealers wh...</td>\n",
       "      <td>https://www.wardsauto.com/dealers/top-10-autom...</td>\n",
       "      <td>data:image/gif;base64,R0lGODlhAQABAIAAAP//////...</td>\n",
       "      <td>MMM</td>\n",
       "      <td>2020-01-06</td>\n",
       "    </tr>\n",
       "    <tr>\n",
       "      <th>7</th>\n",
       "      <td>Morien Resources Corp.: Production Inflection ...</td>\n",
       "      <td>Seeking Alpha</td>\n",
       "      <td>Jan 10, 2020</td>\n",
       "      <td>Morien has required a lot of patience as inves...</td>\n",
       "      <td>https://seekingalpha.com/article/4316213-morie...</td>\n",
       "      <td>data:image/gif;base64,R0lGODlhAQABAIAAAP//////...</td>\n",
       "      <td>MMM</td>\n",
       "      <td>2020-01-10</td>\n",
       "    </tr>\n",
       "    <tr>\n",
       "      <th>8</th>\n",
       "      <td>Report: Matt Rhule considering LSU''s Joe Brad...</td>\n",
       "      <td>Panthers Wire</td>\n",
       "      <td>Jan 11, 2020</td>\n",
       "      <td>... has agreed to a new contract, sources tell...</td>\n",
       "      <td>https://pantherswire.usatoday.com/2020/01/11/p...</td>\n",
       "      <td>data:image/gif;base64,R0lGODlhAQABAIAAAP//////...</td>\n",
       "      <td>MMM</td>\n",
       "      <td>2020-01-11</td>\n",
       "    </tr>\n",
       "    <tr>\n",
       "      <th>9</th>\n",
       "      <td>Cardinals, Rockies Have Reportedly Engaged In ...</td>\n",
       "      <td>MLB Trade Rumors</td>\n",
       "      <td>Jan 12, 2020</td>\n",
       "      <td>Despite their small market size, the Cardinals...</td>\n",
       "      <td>https://www.mlbtraderumors.com/2020/01/cardina...</td>\n",
       "      <td>data:image/gif;base64,R0lGODlhAQABAIAAAP//////...</td>\n",
       "      <td>MMM</td>\n",
       "      <td>2020-01-12</td>\n",
       "    </tr>\n",
       "  </tbody>\n",
       "</table>\n",
       "</div>"
      ],
      "text/plain": [
       "                                               title             media  \\\n",
       "0       Turn Your Side Hustle into a Booming Startup      Street Fight   \n",
       "1  Security Innovation enhances cybersecurity tra...               NaN   \n",
       "2  These \"Three Kings\" hold the record of the Fas...           allkpop   \n",
       "3  Fast-Growing Drizly Joins With Leading Texas R...        PRNewswire   \n",
       "4  Roker Roundup: Reporter suggests that Blackpoo...      Roker Report   \n",
       "5  Spectacular Houses On The Market In London Jan...     Luxury London   \n",
       "6            Top 10 Automotive Developments to Watch      Ward''s Auto   \n",
       "7  Morien Resources Corp.: Production Inflection ...     Seeking Alpha   \n",
       "8  Report: Matt Rhule considering LSU''s Joe Brad...     Panthers Wire   \n",
       "9  Cardinals, Rockies Have Reportedly Engaged In ...  MLB Trade Rumors   \n",
       "\n",
       "           date                                               desc  \\\n",
       "0  Jan 29, 2020  My co-founders and I grew the platform to 3M+ ...   \n",
       "1  Jan 23, 2020  After finishing 2019 with 3M+ licensed users, ...   \n",
       "2  Jan 10, 2020  #ShadowComebackTrailer featuring @BTS_twt''s S...   \n",
       "3  Jan 13, 2020  ... delivery to El Paso and Corpus Christi for...   \n",
       "4   Jan 2, 2020  The striker has only scored once in the league...   \n",
       "5  Jan 15, 2020  ... to mention the striking vaulted chamber th...   \n",
       "6   Jan 6, 2020  Ride sharing is for real, and those dealers wh...   \n",
       "7  Jan 10, 2020  Morien has required a lot of patience as inves...   \n",
       "8  Jan 11, 2020  ... has agreed to a new contract, sources tell...   \n",
       "9  Jan 12, 2020  Despite their small market size, the Cardinals...   \n",
       "\n",
       "                                                link  \\\n",
       "0  https://streetfightmag.com/2020/01/29/turn-you...   \n",
       "1  https://www.globenewswire.com/news-release/202...   \n",
       "2  https://www.allkpop.com/article/2020/01/these-...   \n",
       "3  https://www.prnewswire.com/news-releases/fast-...   \n",
       "4  https://rokerreport.sbnation.com/2020/1/2/2104...   \n",
       "5  https://luxurylondon.co.uk/house/property/lond...   \n",
       "6  https://www.wardsauto.com/dealers/top-10-autom...   \n",
       "7  https://seekingalpha.com/article/4316213-morie...   \n",
       "8  https://pantherswire.usatoday.com/2020/01/11/p...   \n",
       "9  https://www.mlbtraderumors.com/2020/01/cardina...   \n",
       "\n",
       "                                                 img Symbol          dt  \n",
       "0  data:image/gif;base64,R0lGODlhAQABAIAAAP//////...    MMM  2020-01-29  \n",
       "1  data:image/gif;base64,R0lGODlhAQABAIAAAP//////...    MMM  2020-01-23  \n",
       "2  data:image/gif;base64,R0lGODlhAQABAIAAAP//////...    MMM  2020-01-10  \n",
       "3  data:image/gif;base64,R0lGODlhAQABAIAAAP//////...    MMM  2020-01-13  \n",
       "4  data:image/gif;base64,R0lGODlhAQABAIAAAP//////...    MMM  2020-01-02  \n",
       "5  data:image/gif;base64,R0lGODlhAQABAIAAAP//////...    MMM  2020-01-15  \n",
       "6  data:image/gif;base64,R0lGODlhAQABAIAAAP//////...    MMM  2020-01-06  \n",
       "7  data:image/gif;base64,R0lGODlhAQABAIAAAP//////...    MMM  2020-01-10  \n",
       "8  data:image/gif;base64,R0lGODlhAQABAIAAAP//////...    MMM  2020-01-11  \n",
       "9  data:image/gif;base64,R0lGODlhAQABAIAAAP//////...    MMM  2020-01-12  "
      ]
     },
     "execution_count": 13,
     "metadata": {},
     "output_type": "execute_result"
    }
   ],
   "source": [
    "df.head(10)"
   ]
  },
  {
   "cell_type": "code",
   "execution_count": 14,
   "metadata": {
    "tags": []
   },
   "outputs": [],
   "source": [
    "for row in df.iterrows():\n",
    "\n",
    "    idx = row[0]\n",
    "    title = row[1][0]\n",
    "    media = row[1][1]\n",
    "    descrip = row[1][3]\n",
    "    link = row[1][4]\n",
    "    symbol = row[1][6]\n",
    "    dt = row[1][7]\n",
    "\n",
    "    try: \n",
    "        cur.execute(f\"INSERT INTO news (news_id,symbol,title,descrip,media,date,link) VALUES (DEFAULT,'{symbol}','{title}', '{descrip}','{media}', '{dt}', '{link}');\")\n",
    "\n",
    "    except Exception as e:\n",
    "        print(e)\n",
    "        continue\n",
    "    "
   ]
  },
  {
   "cell_type": "code",
   "execution_count": 15,
   "metadata": {},
   "outputs": [
    {
     "name": "stdout",
     "output_type": "stream",
     "text": [
      "(202, 'MMM', 'Turn Your Side Hustle into a Booming Startup', \"My co-founders and I grew the platform to 3M+ users and 10K sign-ups per day just three years after launch. We learned a lot along the way — here's what ...\", 'Street Fight', datetime.date(2020, 1, 29), 'https://streetfightmag.com/2020/01/29/turn-your-side-hustle-into-a-booming-startup/')\n"
     ]
    }
   ],
   "source": [
    "try:\n",
    "    cur.execute(\"SELECT * FROM news;\")\n",
    "    # record = cur.fetchall()\n",
    "    record = cur.fetchone()\n",
    "    print(record)\n",
    "except Exception as e:\n",
    "    print(e)"
   ]
  },
  {
   "cell_type": "code",
   "execution_count": null,
   "metadata": {},
   "outputs": [],
   "source": []
  },
  {
   "cell_type": "code",
   "execution_count": null,
   "metadata": {},
   "outputs": [],
   "source": []
  },
  {
   "cell_type": "code",
   "execution_count": 16,
   "metadata": {},
   "outputs": [],
   "source": [
    "## commit the changes to the db\n",
    "conn.commit()"
   ]
  },
  {
   "cell_type": "code",
   "execution_count": 17,
   "metadata": {},
   "outputs": [
    {
     "name": "stdout",
     "output_type": "stream",
     "text": [
      "postgresql connection closed\n"
     ]
    }
   ],
   "source": [
    "## close the connection\n",
    "cur.close()\n",
    "conn.close()\n",
    "print(\"postgresql connection closed\")"
   ]
  },
  {
   "cell_type": "code",
   "execution_count": null,
   "metadata": {},
   "outputs": [],
   "source": []
  }
 ],
 "metadata": {
  "kernelspec": {
   "display_name": "Python [conda env:dsci551-project] *",
   "language": "python",
   "name": "conda-env-dsci551-project-py"
  },
  "language_info": {
   "codemirror_mode": {
    "name": "ipython",
    "version": 3
   },
   "file_extension": ".py",
   "mimetype": "text/x-python",
   "name": "python",
   "nbconvert_exporter": "python",
   "pygments_lexer": "ipython3",
   "version": "3.7.7"
  }
 },
 "nbformat": 4,
 "nbformat_minor": 4
}